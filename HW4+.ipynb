{
  "nbformat": 4,
  "nbformat_minor": 0,
  "metadata": {
    "colab": {
      "provenance": [],
      "authorship_tag": "ABX9TyMfMO2meO0TrEnnN1B6JB1h",
      "include_colab_link": true
    },
    "kernelspec": {
      "name": "python3",
      "display_name": "Python 3"
    },
    "language_info": {
      "name": "python"
    }
  },
  "cells": [
    {
      "cell_type": "markdown",
      "metadata": {
        "id": "view-in-github",
        "colab_type": "text"
      },
      "source": [
        "<a href=\"https://colab.research.google.com/github/Viktoriia-kama/ML_hw4-hw16/blob/main/HW4%2B.ipynb\" target=\"_parent\"><img src=\"https://colab.research.google.com/assets/colab-badge.svg\" alt=\"Open In Colab\"/></a>"
      ]
    },
    {
      "cell_type": "code",
      "source": [
        "import numpy as np"
      ],
      "metadata": {
        "id": "rVxCsMy8LCU5"
      },
      "execution_count": 2,
      "outputs": []
    },
    {
      "cell_type": "code",
      "execution_count": 15,
      "metadata": {
        "colab": {
          "base_uri": "https://localhost:8080/"
        },
        "id": "zg1Hu9tBK-gA",
        "outputId": "bdf6a0e3-bd53-44e7-e21e-83ae318be72f"
      },
      "outputs": [
        {
          "output_type": "execute_result",
          "data": {
            "text/plain": [
              "array([-1,  2, -1, -1, -1,  6, -1,  8, -1])"
            ]
          },
          "metadata": {},
          "execution_count": 15
        }
      ],
      "source": [
        "arr = np.array([1, 2, 3, 7, 5, 6, 7, 8, 9])\n",
        "for i in range(len(arr)):\n",
        "  if arr[i]%2 !=0:\n",
        "    arr[i]=-1\n",
        "arr\n"
      ]
    },
    {
      "cell_type": "code",
      "source": [
        "arr_1d = np.random.randint(0, 16, size=(8))\n",
        "np.reshape(arr_1d, (2,-1))"
      ],
      "metadata": {
        "colab": {
          "base_uri": "https://localhost:8080/"
        },
        "id": "yrChLwuKMvTT",
        "outputId": "8d05d015-86d2-4d2b-bdfc-a4eb38c05167"
      },
      "execution_count": 18,
      "outputs": [
        {
          "output_type": "execute_result",
          "data": {
            "text/plain": [
              "array([[ 6,  9, 11, 15],\n",
              "       [ 8,  1, 11,  8]])"
            ]
          },
          "metadata": {},
          "execution_count": 18
        }
      ]
    },
    {
      "cell_type": "code",
      "source": [
        "a = np.random.randint(0, 11, size=(2,3))\n",
        "b = np.random.randint(0, 11, size=(3,3))\n",
        "print(a,b)\n",
        "\n",
        "np.vstack((a, b))"
      ],
      "metadata": {
        "colab": {
          "base_uri": "https://localhost:8080/"
        },
        "id": "t_4rLZmZOBw7",
        "outputId": "bcfe4335-96e6-466a-d6f9-38344f98cc54"
      },
      "execution_count": 24,
      "outputs": [
        {
          "output_type": "stream",
          "name": "stdout",
          "text": [
            "[[5 6 5]\n",
            " [6 3 3]] [[ 6  4  2]\n",
            " [ 4 10  4]\n",
            " [ 5  3  0]]\n"
          ]
        },
        {
          "output_type": "execute_result",
          "data": {
            "text/plain": [
              "array([[ 5,  6,  5],\n",
              "       [ 6,  3,  3],\n",
              "       [ 6,  4,  2],\n",
              "       [ 4, 10,  4],\n",
              "       [ 5,  3,  0]])"
            ]
          },
          "metadata": {},
          "execution_count": 24
        }
      ]
    },
    {
      "cell_type": "code",
      "source": [
        "a = np.array([1, 2, 3])\n",
        "np.concatenate((np.repeat(a,3), a, a, a))"
      ],
      "metadata": {
        "colab": {
          "base_uri": "https://localhost:8080/"
        },
        "id": "dfzwrMbHtvNy",
        "outputId": "f1d51ee9-692f-4d81-fc3b-d3e3d8add212"
      },
      "execution_count": 6,
      "outputs": [
        {
          "output_type": "execute_result",
          "data": {
            "text/plain": [
              "array([1, 1, 1, 2, 2, 2, 3, 3, 3, 1, 2, 3, 1, 2, 3, 1, 2, 3])"
            ]
          },
          "metadata": {},
          "execution_count": 6
        }
      ]
    },
    {
      "cell_type": "code",
      "source": [
        "a = np.array([1,2,3,2,3,4,3,4,5,6])\n",
        "b = np.array([7,2,10,2,7,4,9,4,9,8])\n",
        "np.intersect1d(a,b)\n"
      ],
      "metadata": {
        "colab": {
          "base_uri": "https://localhost:8080/"
        },
        "id": "ZJIlaxUaugDp",
        "outputId": "bb674361-e5b6-4271-9bb1-1dbc5c56d98a"
      },
      "execution_count": 7,
      "outputs": [
        {
          "output_type": "execute_result",
          "data": {
            "text/plain": [
              "array([2, 4])"
            ]
          },
          "metadata": {},
          "execution_count": 7
        }
      ]
    },
    {
      "cell_type": "code",
      "source": [
        "np.random.seed(100)\n",
        "a = np.random.uniform(1,50, 20)\n",
        "print(a)\n",
        "np.argsort(a)[-5:]"
      ],
      "metadata": {
        "colab": {
          "base_uri": "https://localhost:8080/"
        },
        "id": "71QrhzyHuzM4",
        "outputId": "71029ae3-412d-4e01-bf98-95fcd351cb88"
      },
      "execution_count": 11,
      "outputs": [
        {
          "output_type": "stream",
          "name": "stdout",
          "text": [
            "[27.62684215 14.64009987 21.80136195 42.39403048  1.23122395  6.95688692\n",
            " 33.86670515 41.466785    7.69862289 29.17957314 44.67477576 11.25090398\n",
            " 10.08108276  6.31046763 11.76517714 48.95256545 40.77247431  9.42510962\n",
            " 40.99501269 14.42961361]\n"
          ]
        },
        {
          "output_type": "execute_result",
          "data": {
            "text/plain": [
              "array([18,  7,  3, 10, 15])"
            ]
          },
          "metadata": {},
          "execution_count": 11
        }
      ]
    },
    {
      "cell_type": "code",
      "source": [
        "а=np.array([1,2,3,np.nan,5,6,7,np.nan])\n",
        "mask = ~np.isnan(a)\n",
        "result = a[mask]\n",
        "print(result)"
      ],
      "metadata": {
        "colab": {
          "base_uri": "https://localhost:8080/"
        },
        "id": "bi508knKvtOZ",
        "outputId": "3c8c1afd-e372-461b-e429-eed2057a2412"
      },
      "execution_count": 17,
      "outputs": [
        {
          "output_type": "stream",
          "name": "stdout",
          "text": [
            "[1. 2. 3. 5. 6. 7.]\n"
          ]
        }
      ]
    },
    {
      "cell_type": "code",
      "source": [
        "a = np.array([1,2,3,4,5])\n",
        "b = np.array([4,5,6,7,8])\n",
        "np.linalg.norm(a-b)"
      ],
      "metadata": {
        "colab": {
          "base_uri": "https://localhost:8080/"
        },
        "id": "RLcvuqWrwGR2",
        "outputId": "c9ae900c-2608-48fe-9642-3acddf45a375"
      },
      "execution_count": 18,
      "outputs": [
        {
          "output_type": "execute_result",
          "data": {
            "text/plain": [
              "6.708203932499369"
            ]
          },
          "metadata": {},
          "execution_count": 18
        }
      ]
    },
    {
      "cell_type": "code",
      "source": [
        "x = np.array([1, 2, 1, 1, 3, 4, 3, 1, 1, 2, 1, 1, 2])\n",
        "indices = np.where(x == 1)[0]\n",
        "indices[4]"
      ],
      "metadata": {
        "colab": {
          "base_uri": "https://localhost:8080/"
        },
        "id": "OHAt2_sCxdTn",
        "outputId": "95181997-539e-47ab-da7e-55e68ad551da"
      },
      "execution_count": 21,
      "outputs": [
        {
          "output_type": "execute_result",
          "data": {
            "text/plain": [
              "8"
            ]
          },
          "metadata": {},
          "execution_count": 21
        }
      ]
    }
  ]
}