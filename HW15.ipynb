{
  "nbformat": 4,
  "nbformat_minor": 0,
  "metadata": {
    "colab": {
      "provenance": [],
      "authorship_tag": "ABX9TyOMpXe+shadKyroRSx3UP9S",
      "include_colab_link": true
    },
    "kernelspec": {
      "name": "python3",
      "display_name": "Python 3"
    },
    "language_info": {
      "name": "python"
    }
  },
  "cells": [
    {
      "cell_type": "markdown",
      "metadata": {
        "id": "view-in-github",
        "colab_type": "text"
      },
      "source": [
        "<a href=\"https://colab.research.google.com/github/Viktoriia-kama/ML_hw4-hw16/blob/main/HW15.ipynb\" target=\"_parent\"><img src=\"https://colab.research.google.com/assets/colab-badge.svg\" alt=\"Open In Colab\"/></a>"
      ]
    },
    {
      "cell_type": "code",
      "source": [
        "text = \"\"\"The Orbiter Discovery, OV-103, is considered eligible for listing in the National Register of Historic Places (NRHP)\n",
        "in the context of the U.S. Space Shuttle Program (1969-2011) under Criterion A in the areas of Space Exploration and Transportation\n",
        " and under Criterion C in the area of Engineering. Because it has achieved significance within the past fifty years, Criteria Consideration\n",
        " G applies. Under Criterion A, Discovery is significant as the oldest of the three extant orbiter vehicles constructed for the Space Shuttle Program (SSP),\n",
        " the longest running American space program to date; she was the third of five orbiters built by NASA. Unlike the Mercury, Gemini, and Apollo programs,\n",
        " the SSP’s emphasis was on cost effectiveness and reusability, and eventually the construction of a space station. Including her maiden\n",
        " voyage (launched August 30, 1984), Discovery flew to space thirty-nine times, more than any of the other four orbiters; she was also the first orbiter\n",
        " to fly twenty missions. She had the honor of being chosen as the Return to Flight vehicle after both the Challenger and Columbia accidents. Discovery was\n",
        " the first shuttle to fly with the redesigned SRBs, a result of the Challenger accident, and the first shuttle to fly with the Phase II and Block I SSME.\n",
        " Discovery also carried the Hubble Space Telescope to orbit and performed two of the five servicing missions to the observatory. She flew the first and last\n",
        " dedicated Department of Defense (DoD) missions, as well as the first unclassified defense-related mission. In addition, Discovery was vital to the construction\n",
        " of the International Space Station (ISS); she flew thirteen of the thirty-seven total missions flown to the station by a U.S. Space Shuttle. She was the first\n",
        " orbiter to dock to the ISS, and the first to perform an exchange of a resident crew. Under Criterion C, Discovery is significant as a feat of engineering.\n",
        " According to Wayne Hale, a flight director from Johnson Space Center, the Space Shuttle orbiter represents a “huge technological leap from expendable rockets\n",
        " and capsules to a reusable, winged, hypersonic, cargo-carrying spacecraft.” Although her base structure followed a conventional aircraft design, she used advanced\n",
        " materials that both minimized her weight for cargo-carrying purposes and featured low thermal expansion ratios, which provided a stable base for\n",
        " her Thermal Protection System (TPS) materials. The Space Shuttle orbiter also featured the first reusable TPS; all previous spaceflight vehicles had\n",
        " a single-use, ablative heat shield. Other notable engineering achievements of the orbiter included the first reusable orbital propulsion system,\n",
        " and the first two-fault-tolerant Integrated Avionics System. As Hale stated, the Space Shuttle remains “the largest, fastest, winged hypersonic\n",
        " aircraft in history,” having regularly flown at twenty-five times the speed of sound.\"\"\""
      ],
      "metadata": {
        "id": "lwYLCEnW4cru"
      },
      "execution_count": 19,
      "outputs": []
    },
    {
      "cell_type": "code",
      "source": [
        "import spacy\n",
        "import nltk\n",
        "from nltk.corpus import stopwords\n",
        "from nltk.tokenize import sent_tokenize, word_tokenize\n",
        "from heapq import nlargest\n",
        "import string\n",
        "\n",
        "# Завантажуємо мовну модель spaCy\n",
        "nlp = spacy.load('en_core_web_sm')\n",
        "\n",
        "# Завантажуємо список стоп-слів та токенізатори NLTK\n",
        "nltk.download('punkt')\n",
        "nltk.download('stopwords')\n",
        "stop_words = set(stopwords.words('english'))\n",
        "\n",
        "# Видаляємо знаки пунктуації\n",
        "punctuation = string.punctuation\n",
        "\n",
        "# Токенізація речень\n",
        "sentence_tokens = sent_tokenize(text)\n",
        "\n",
        "# Створюємо документ spaCy та токенізуємо текст\n",
        "doc = nlp(text)\n",
        "\n",
        "# Підраховуємо частоту слів\n",
        "word_frequencies = {}\n",
        "for word in doc:\n",
        "    if word.text.lower() not in stop_words and word.text.lower() not in punctuation:\n",
        "        if word.text not in word_frequencies:\n",
        "            word_frequencies[word.text] = 1\n",
        "        else:\n",
        "            word_frequencies[word.text] += 1\n",
        "\n",
        "# Визначаємо максимальну частоту слова\n",
        "max_frequency = max(word_frequencies.values())\n",
        "\n",
        "# Нормалізуємо частоту слів\n",
        "for word in word_frequencies.keys():\n",
        "    word_frequencies[word] = word_frequencies[word] / max_frequency\n",
        "\n",
        "# Оцінюємо речення\n",
        "sentence_scores = {}\n",
        "for sent in sentence_tokens:\n",
        "    for word in nltk.word_tokenize(sent.lower()):\n",
        "        if word in word_frequencies:\n",
        "            if sent not in sentence_scores:\n",
        "                sentence_scores[sent] = word_frequencies[word]\n",
        "            else:\n",
        "                sentence_scores[sent] += word_frequencies[word]\n",
        "\n",
        "# Визначаємо кількість речень у summary\n",
        "select_length = int(len(sentence_tokens) * 0.3)\n",
        "\n",
        "# Знаходимо речення з найвищими оцінками\n",
        "summary_sentences = nlargest(select_length, sentence_scores, key=sentence_scores.get)\n",
        "\n",
        "# З'єднуємо речення в одне summary\n",
        "summary = ' '.join(summary_sentences)\n",
        "\n",
        "print(summary)\n"
      ],
      "metadata": {
        "colab": {
          "base_uri": "https://localhost:8080/"
        },
        "collapsed": true,
        "id": "LdhFVc3b28vJ",
        "outputId": "2dc9657b-df5c-4316-dc7a-0f81d1ee4067"
      },
      "execution_count": 20,
      "outputs": [
        {
          "output_type": "stream",
          "name": "stdout",
          "text": [
            "According to Wayne Hale, a flight director from Johnson Space Center, the Space Shuttle orbiter represents a “huge technological leap from expendable rockets \n",
            " and capsules to a reusable, winged, hypersonic, cargo-carrying spacecraft.” Although her base structure followed a conventional aircraft design, she used advanced \n",
            " materials that both minimized her weight for cargo-carrying purposes and featured low thermal expansion ratios, which provided a stable base for \n",
            " her Thermal Protection System (TPS) materials. Including her maiden \n",
            " voyage (launched August 30, 1984), Discovery flew to space thirty-nine times, more than any of the other four orbiters; she was also the first orbiter \n",
            " to fly twenty missions. Other notable engineering achievements of the orbiter included the first reusable orbital propulsion system, \n",
            " and the first two-fault-tolerant Integrated Avionics System. The Space Shuttle orbiter also featured the first reusable TPS; all previous spaceflight vehicles had \n",
            " a single-use, ablative heat shield.\n"
          ]
        },
        {
          "output_type": "stream",
          "name": "stderr",
          "text": [
            "[nltk_data] Downloading package punkt to /root/nltk_data...\n",
            "[nltk_data]   Package punkt is already up-to-date!\n",
            "[nltk_data] Downloading package stopwords to /root/nltk_data...\n",
            "[nltk_data]   Package stopwords is already up-to-date!\n"
          ]
        }
      ]
    },
    {
      "cell_type": "markdown",
      "source": [
        "According to Wayne Hale, a flight director from Johnson Space Center, the Space Shuttle orbiter represents a “huge technological leap from expendable rockets and capsules to a reusable, winged, hypersonic, cargo-carrying spacecraft.” Although her base structure followed a conventional aircraft design, she used advanced materials that both minimized her weight for cargo-carrying purposes and featured low thermal expansion ratios, which provided a stable base for her Thermal Protection System (TPS) materials. Including her maiden voyage (launched August 30, 1984), Discovery flew to space thirty-nine times, more than any of the other four orbiters; she was also the first orbiter to fly twenty missions. Other notable engineering achievements of the orbiter included the first reusable orbital propulsion system, and the first two-fault-tolerant Integrated Avionics System. The Space Shuttle orbiter also featured the first reusable TPS; all previous spaceflight vehicles had a single-use, ablative heat shield.\n"
      ],
      "metadata": {
        "id": "GJokfWP03Bi-"
      }
    }
  ]
}