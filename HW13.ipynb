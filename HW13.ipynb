{
  "nbformat": 4,
  "nbformat_minor": 0,
  "metadata": {
    "colab": {
      "provenance": [],
      "gpuType": "T4",
      "authorship_tag": "ABX9TyNSG4HDK0LcOcmu2RD9JjlD",
      "include_colab_link": true
    },
    "kernelspec": {
      "name": "python3",
      "display_name": "Python 3"
    },
    "language_info": {
      "name": "python"
    },
    "accelerator": "GPU"
  },
  "cells": [
    {
      "cell_type": "markdown",
      "metadata": {
        "id": "view-in-github",
        "colab_type": "text"
      },
      "source": [
        "<a href=\"https://colab.research.google.com/github/Viktoriia-kama/ML_hw4-hw16/blob/main/HW13.ipynb\" target=\"_parent\"><img src=\"https://colab.research.google.com/assets/colab-badge.svg\" alt=\"Open In Colab\"/></a>"
      ]
    },
    {
      "cell_type": "code",
      "source": [
        "import numpy as np\n",
        "import matplotlib.pyplot as plt\n",
        "import tensorflow as tf\n",
        "from tensorflow.keras.datasets import fashion_mnist\n",
        "from tensorflow.keras.models import Sequential\n",
        "from tensorflow.keras.layers import Conv2D, MaxPooling2D, Flatten, Dense, Dropout\n",
        "from tensorflow.keras.utils import to_categorical\n",
        "from keras import layers, models\n",
        "\n",
        "(x_train, y_train), (x_test, y_test) = fashion_mnist.load_data()\n",
        "\n",
        "x_train = x_train.astype('float32') / 255.0\n",
        "x_test = x_test.astype('float32') / 255.0\n",
        "\n",
        "x_train = np.expand_dims(x_train, -1)\n",
        "x_test = np.expand_dims(x_test, -1)\n",
        "\n",
        "y_train = to_categorical(y_train, 10)\n",
        "y_test = to_categorical(y_test, 10)\n"
      ],
      "metadata": {
        "id": "peCgq18iUi15"
      },
      "execution_count": 9,
      "outputs": []
    },
    {
      "cell_type": "code",
      "source": [
        "model = Sequential()\n",
        "\n",
        "model.add(Conv2D(32, (3, 3), activation='relu', input_shape=(28, 28, 1)))\n",
        "model.add(MaxPooling2D((2, 2)))\n",
        "\n",
        "model.add(Conv2D(64, (3, 3), activation='relu'))\n",
        "model.add(MaxPooling2D((2, 2)))\n",
        "\n",
        "model.add(Flatten())\n",
        "model.add(Dense(128, activation='relu'))\n",
        "model.add(Dropout(0.5))\n",
        "model.add(Dense(10, activation='softmax'))\n",
        "\n",
        "model.compile(optimizer='rmsprop',\n",
        "              loss='categorical_crossentropy',\n",
        "              metrics=['accuracy'])\n",
        "\n",
        "history = model.fit(x_train, y_train, epochs=10, batch_size=128, validation_split=0.2, verbose=2)\n",
        "\n",
        "test_loss, test_acc = model.evaluate(x_test, y_test, verbose=2)\n",
        "\n",
        "print(f\"Test accuracy: {test_acc:.4f}\")\n"
      ],
      "metadata": {
        "colab": {
          "base_uri": "https://localhost:8080/"
        },
        "id": "wAReuV_kUlxp",
        "outputId": "e98efc56-2e2f-41a3-a40c-5a7f5cb77ccd"
      },
      "execution_count": 7,
      "outputs": [
        {
          "output_type": "stream",
          "name": "stdout",
          "text": [
            "Epoch 1/10\n",
            "375/375 - 3s - loss: 0.6992 - accuracy: 0.7480 - val_loss: 0.4529 - val_accuracy: 0.8301 - 3s/epoch - 7ms/step\n",
            "Epoch 2/10\n",
            "375/375 - 1s - loss: 0.4419 - accuracy: 0.8395 - val_loss: 0.3752 - val_accuracy: 0.8617 - 1s/epoch - 4ms/step\n",
            "Epoch 3/10\n",
            "375/375 - 2s - loss: 0.3779 - accuracy: 0.8652 - val_loss: 0.3406 - val_accuracy: 0.8740 - 2s/epoch - 4ms/step\n",
            "Epoch 4/10\n",
            "375/375 - 2s - loss: 0.3398 - accuracy: 0.8774 - val_loss: 0.3276 - val_accuracy: 0.8753 - 2s/epoch - 5ms/step\n",
            "Epoch 5/10\n",
            "375/375 - 2s - loss: 0.3135 - accuracy: 0.8878 - val_loss: 0.2808 - val_accuracy: 0.8986 - 2s/epoch - 4ms/step\n",
            "Epoch 6/10\n",
            "375/375 - 1s - loss: 0.2907 - accuracy: 0.8943 - val_loss: 0.2956 - val_accuracy: 0.8896 - 1s/epoch - 4ms/step\n",
            "Epoch 7/10\n",
            "375/375 - 2s - loss: 0.2745 - accuracy: 0.9019 - val_loss: 0.2700 - val_accuracy: 0.8992 - 2s/epoch - 4ms/step\n",
            "Epoch 8/10\n",
            "375/375 - 2s - loss: 0.2595 - accuracy: 0.9068 - val_loss: 0.2624 - val_accuracy: 0.9048 - 2s/epoch - 4ms/step\n",
            "Epoch 9/10\n",
            "375/375 - 1s - loss: 0.2499 - accuracy: 0.9096 - val_loss: 0.2696 - val_accuracy: 0.9049 - 1s/epoch - 4ms/step\n",
            "Epoch 10/10\n",
            "375/375 - 1s - loss: 0.2374 - accuracy: 0.9137 - val_loss: 0.2541 - val_accuracy: 0.9094 - 1s/epoch - 4ms/step\n",
            "313/313 - 1s - loss: 0.2720 - accuracy: 0.9008 - 620ms/epoch - 2ms/step\n",
            "Test accuracy: 0.9008\n"
          ]
        }
      ]
    },
    {
      "cell_type": "markdown",
      "source": [
        "Отже, точність моделі 90%, що на 2% вище, ніж у попередньому завданні."
      ],
      "metadata": {
        "id": "J12e-_ZYbvFa"
      }
    }
  ]
}