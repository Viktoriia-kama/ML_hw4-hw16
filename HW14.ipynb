{
  "nbformat": 4,
  "nbformat_minor": 0,
  "metadata": {
    "colab": {
      "provenance": [],
      "gpuType": "T4",
      "authorship_tag": "ABX9TyM3y17vMP9eBCsnBC/+47ln",
      "include_colab_link": true
    },
    "kernelspec": {
      "name": "python3",
      "display_name": "Python 3"
    },
    "language_info": {
      "name": "python"
    },
    "accelerator": "GPU"
  },
  "cells": [
    {
      "cell_type": "markdown",
      "metadata": {
        "id": "view-in-github",
        "colab_type": "text"
      },
      "source": [
        "<a href=\"https://colab.research.google.com/github/Viktoriia-kama/ML_hw4-hw16/blob/main/HW14.ipynb\" target=\"_parent\"><img src=\"https://colab.research.google.com/assets/colab-badge.svg\" alt=\"Open In Colab\"/></a>"
      ]
    },
    {
      "cell_type": "code",
      "source": [
        "import numpy as np\n",
        "from keras.datasets import imdb\n",
        "from keras.preprocessing import sequence\n",
        "from keras.models import Sequential\n",
        "from keras.layers import Embedding, SimpleRNN, Dense, LSTM, Bidirectional\n"
      ],
      "metadata": {
        "id": "Du4tOQIykSGS"
      },
      "execution_count": 1,
      "outputs": []
    },
    {
      "cell_type": "code",
      "execution_count": 2,
      "metadata": {
        "colab": {
          "base_uri": "https://localhost:8080/"
        },
        "id": "ue04jkl8jcor",
        "outputId": "20146bf1-723c-4413-98c1-b5d691506d36"
      },
      "outputs": [
        {
          "output_type": "stream",
          "name": "stdout",
          "text": [
            "Downloading data from https://storage.googleapis.com/tensorflow/tf-keras-datasets/imdb.npz\n",
            "17464789/17464789 [==============================] - 2s 0us/step\n"
          ]
        }
      ],
      "source": [
        "max_features = 20000\n",
        "maxlen = 200\n",
        "\n",
        "(x_train, y_train), (x_test, y_test) = imdb.load_data(num_words=max_features)\n",
        "\n",
        "x_train = sequence.pad_sequences(x_train, maxlen=maxlen)\n",
        "x_test = sequence.pad_sequences(x_test, maxlen=maxlen)\n"
      ]
    },
    {
      "cell_type": "code",
      "source": [
        "rnn_model = Sequential()\n",
        "rnn_model.add(Embedding(max_features, 128, input_length=maxlen))\n",
        "rnn_model.add(SimpleRNN(128))\n",
        "rnn_model.add(Dense(1, activation='sigmoid'))\n",
        "\n",
        "rnn_model.compile(optimizer='adam', loss='binary_crossentropy', metrics=['accuracy'])"
      ],
      "metadata": {
        "id": "V-j2sANwjhg_"
      },
      "execution_count": 3,
      "outputs": []
    },
    {
      "cell_type": "code",
      "source": [
        "lstm_model = Sequential()\n",
        "lstm_model.add(Embedding(max_features, 128, input_length=maxlen))\n",
        "lstm_model.add(LSTM(128))\n",
        "lstm_model.add(Dense(1, activation='sigmoid'))\n",
        "\n",
        "lstm_model.compile(optimizer='adam', loss='binary_crossentropy', metrics=['accuracy'])\n"
      ],
      "metadata": {
        "id": "3pi87BH0jkCa"
      },
      "execution_count": 4,
      "outputs": []
    },
    {
      "cell_type": "code",
      "source": [
        "bidirectional_lstm_model = Sequential()\n",
        "bidirectional_lstm_model.add(Embedding(max_features, 128, input_length=maxlen))\n",
        "bidirectional_lstm_model.add(Bidirectional(LSTM(128)))\n",
        "bidirectional_lstm_model.add(Dense(1, activation='sigmoid'))\n",
        "\n",
        "bidirectional_lstm_model.compile(optimizer='adam', loss='binary_crossentropy', metrics=['accuracy'])\n"
      ],
      "metadata": {
        "id": "129nNJoCk6Oy"
      },
      "execution_count": 5,
      "outputs": []
    },
    {
      "cell_type": "code",
      "source": [
        "deep_lstm_model = Sequential()\n",
        "deep_lstm_model.add(Embedding(max_features, 128, input_length=maxlen))\n",
        "deep_lstm_model.add(LSTM(128, return_sequences=True))\n",
        "deep_lstm_model.add(LSTM(128))\n",
        "deep_lstm_model.add(Dense(1, activation='sigmoid'))\n",
        "\n",
        "deep_lstm_model.compile(optimizer='adam', loss='binary_crossentropy', metrics=['accuracy'])\n"
      ],
      "metadata": {
        "id": "vNKsdzbclCtk"
      },
      "execution_count": 6,
      "outputs": []
    },
    {
      "cell_type": "code",
      "source": [
        "rnn_history = rnn_model.fit(x_train, y_train, epochs=10, batch_size=32, validation_split=0.2)\n",
        "\n",
        "lstm_history = lstm_model.fit(x_train, y_train, epochs=10, batch_size=32, validation_split=0.2)\n",
        "\n",
        "bidirectional_lstm_history = bidirectional_lstm_model.fit(x_train, y_train, epochs=10, batch_size=32, validation_split=0.2)\n",
        "\n",
        "deep_lstm_history = deep_lstm_model.fit(x_train, y_train, epochs=10, batch_size=32, validation_split=0.2)\n"
      ],
      "metadata": {
        "colab": {
          "base_uri": "https://localhost:8080/"
        },
        "id": "rIz5wOMIlJVd",
        "outputId": "7c96a8bd-8c30-4fcf-929e-c3b1e40a5c92"
      },
      "execution_count": 7,
      "outputs": [
        {
          "output_type": "stream",
          "name": "stdout",
          "text": [
            "Epoch 1/10\n",
            "625/625 [==============================] - 134s 210ms/step - loss: 0.6689 - accuracy: 0.5714 - val_loss: 0.6350 - val_accuracy: 0.6408\n",
            "Epoch 2/10\n",
            "625/625 [==============================] - 100s 161ms/step - loss: 0.5449 - accuracy: 0.7262 - val_loss: 0.5141 - val_accuracy: 0.7682\n",
            "Epoch 3/10\n",
            "625/625 [==============================] - 101s 162ms/step - loss: 0.3969 - accuracy: 0.8275 - val_loss: 0.4689 - val_accuracy: 0.7966\n",
            "Epoch 4/10\n",
            "625/625 [==============================] - 99s 159ms/step - loss: 0.3141 - accuracy: 0.8736 - val_loss: 0.5334 - val_accuracy: 0.7796\n",
            "Epoch 5/10\n",
            "625/625 [==============================] - 96s 154ms/step - loss: 0.3804 - accuracy: 0.8265 - val_loss: 0.6385 - val_accuracy: 0.6592\n",
            "Epoch 6/10\n",
            "625/625 [==============================] - 96s 154ms/step - loss: 0.3180 - accuracy: 0.8662 - val_loss: 0.5970 - val_accuracy: 0.7520\n",
            "Epoch 7/10\n",
            "625/625 [==============================] - 95s 152ms/step - loss: 0.2209 - accuracy: 0.9181 - val_loss: 0.6416 - val_accuracy: 0.7756\n",
            "Epoch 8/10\n",
            "625/625 [==============================] - 97s 155ms/step - loss: 0.2092 - accuracy: 0.9222 - val_loss: 0.6662 - val_accuracy: 0.7776\n",
            "Epoch 9/10\n",
            "625/625 [==============================] - 96s 153ms/step - loss: 0.1500 - accuracy: 0.9485 - val_loss: 0.6648 - val_accuracy: 0.7720\n",
            "Epoch 10/10\n",
            "625/625 [==============================] - 97s 155ms/step - loss: 0.2890 - accuracy: 0.8694 - val_loss: 0.6364 - val_accuracy: 0.7592\n",
            "Epoch 1/10\n",
            "625/625 [==============================] - 38s 57ms/step - loss: 0.4688 - accuracy: 0.7759 - val_loss: 0.3801 - val_accuracy: 0.8414\n",
            "Epoch 2/10\n",
            "625/625 [==============================] - 15s 23ms/step - loss: 0.2811 - accuracy: 0.8878 - val_loss: 0.3464 - val_accuracy: 0.8626\n",
            "Epoch 3/10\n",
            "625/625 [==============================] - 11s 18ms/step - loss: 0.1669 - accuracy: 0.9395 - val_loss: 0.3695 - val_accuracy: 0.8548\n",
            "Epoch 4/10\n",
            "625/625 [==============================] - 10s 16ms/step - loss: 0.1033 - accuracy: 0.9644 - val_loss: 0.4520 - val_accuracy: 0.8540\n",
            "Epoch 5/10\n",
            "625/625 [==============================] - 9s 14ms/step - loss: 0.0755 - accuracy: 0.9750 - val_loss: 0.4630 - val_accuracy: 0.8484\n",
            "Epoch 6/10\n",
            "625/625 [==============================] - 9s 14ms/step - loss: 0.0530 - accuracy: 0.9829 - val_loss: 0.6202 - val_accuracy: 0.8442\n",
            "Epoch 7/10\n",
            "625/625 [==============================] - 8s 13ms/step - loss: 0.0314 - accuracy: 0.9912 - val_loss: 0.6033 - val_accuracy: 0.8418\n",
            "Epoch 8/10\n",
            "625/625 [==============================] - 8s 12ms/step - loss: 0.0293 - accuracy: 0.9906 - val_loss: 0.6841 - val_accuracy: 0.8522\n",
            "Epoch 9/10\n",
            "625/625 [==============================] - 9s 14ms/step - loss: 0.0260 - accuracy: 0.9920 - val_loss: 0.7435 - val_accuracy: 0.8488\n",
            "Epoch 10/10\n",
            "625/625 [==============================] - 8s 12ms/step - loss: 0.0395 - accuracy: 0.9875 - val_loss: 0.7213 - val_accuracy: 0.8306\n",
            "Epoch 1/10\n",
            "625/625 [==============================] - 44s 64ms/step - loss: 0.4567 - accuracy: 0.7755 - val_loss: 0.3322 - val_accuracy: 0.8618\n",
            "Epoch 2/10\n",
            "625/625 [==============================] - 18s 29ms/step - loss: 0.2443 - accuracy: 0.9048 - val_loss: 0.3223 - val_accuracy: 0.8726\n",
            "Epoch 3/10\n",
            "625/625 [==============================] - 17s 27ms/step - loss: 0.1440 - accuracy: 0.9477 - val_loss: 0.3712 - val_accuracy: 0.8688\n",
            "Epoch 4/10\n",
            "625/625 [==============================] - 14s 23ms/step - loss: 0.0824 - accuracy: 0.9723 - val_loss: 0.4687 - val_accuracy: 0.8682\n",
            "Epoch 5/10\n",
            "625/625 [==============================] - 14s 22ms/step - loss: 0.0599 - accuracy: 0.9808 - val_loss: 0.4695 - val_accuracy: 0.8510\n",
            "Epoch 6/10\n",
            "625/625 [==============================] - 14s 22ms/step - loss: 0.0392 - accuracy: 0.9875 - val_loss: 0.5201 - val_accuracy: 0.8518\n",
            "Epoch 7/10\n",
            "625/625 [==============================] - 13s 21ms/step - loss: 0.0250 - accuracy: 0.9926 - val_loss: 0.6021 - val_accuracy: 0.8566\n",
            "Epoch 8/10\n",
            "625/625 [==============================] - 13s 20ms/step - loss: 0.0181 - accuracy: 0.9947 - val_loss: 0.6947 - val_accuracy: 0.8314\n",
            "Epoch 9/10\n",
            "625/625 [==============================] - 13s 20ms/step - loss: 0.0237 - accuracy: 0.9923 - val_loss: 0.6990 - val_accuracy: 0.8574\n",
            "Epoch 10/10\n",
            "625/625 [==============================] - 13s 21ms/step - loss: 0.0339 - accuracy: 0.9898 - val_loss: 0.6174 - val_accuracy: 0.8506\n",
            "Epoch 1/10\n",
            "625/625 [==============================] - 46s 69ms/step - loss: 0.4361 - accuracy: 0.8000 - val_loss: 0.3281 - val_accuracy: 0.8658\n",
            "Epoch 2/10\n",
            "625/625 [==============================] - 18s 29ms/step - loss: 0.3000 - accuracy: 0.8850 - val_loss: 0.3351 - val_accuracy: 0.8646\n",
            "Epoch 3/10\n",
            "625/625 [==============================] - 15s 23ms/step - loss: 0.1742 - accuracy: 0.9349 - val_loss: 0.3805 - val_accuracy: 0.8420\n",
            "Epoch 4/10\n",
            "625/625 [==============================] - 14s 22ms/step - loss: 0.1085 - accuracy: 0.9632 - val_loss: 0.4003 - val_accuracy: 0.8622\n",
            "Epoch 5/10\n",
            "625/625 [==============================] - 14s 22ms/step - loss: 0.0795 - accuracy: 0.9734 - val_loss: 0.4424 - val_accuracy: 0.8538\n",
            "Epoch 6/10\n",
            "625/625 [==============================] - 13s 21ms/step - loss: 0.0530 - accuracy: 0.9822 - val_loss: 0.5316 - val_accuracy: 0.8188\n",
            "Epoch 7/10\n",
            "625/625 [==============================] - 13s 21ms/step - loss: 0.0388 - accuracy: 0.9871 - val_loss: 0.5867 - val_accuracy: 0.8596\n",
            "Epoch 8/10\n",
            "625/625 [==============================] - 13s 21ms/step - loss: 0.0245 - accuracy: 0.9923 - val_loss: 0.6787 - val_accuracy: 0.8494\n",
            "Epoch 9/10\n",
            "625/625 [==============================] - 12s 20ms/step - loss: 0.0221 - accuracy: 0.9927 - val_loss: 0.7300 - val_accuracy: 0.8586\n",
            "Epoch 10/10\n",
            "625/625 [==============================] - 13s 20ms/step - loss: 0.0178 - accuracy: 0.9945 - val_loss: 0.8751 - val_accuracy: 0.8376\n"
          ]
        }
      ]
    },
    {
      "cell_type": "code",
      "source": [
        "rnn_score = rnn_model.evaluate(x_test, y_test)\n",
        "lstm_score = lstm_model.evaluate(x_test, y_test)\n",
        "bidirectional_lstm_score = bidirectional_lstm_model.evaluate(x_test, y_test)\n",
        "deep_lstm_score = deep_lstm_model.evaluate(x_test, y_test)\n",
        "\n",
        "print(f\"RNN Accuracy: {rnn_score[1]}\")\n",
        "print(f\"LSTM Accuracy: {lstm_score[1]}\")\n",
        "print(f\"Bidirectional LSTM Accuracy: {bidirectional_lstm_score[1]}\")\n",
        "print(f\"Deep LSTM Accuracy: {deep_lstm_score[1]}\")\n"
      ],
      "metadata": {
        "colab": {
          "base_uri": "https://localhost:8080/"
        },
        "id": "7iAAme2ilnh3",
        "outputId": "2188fe9c-0768-4a94-f079-bc75a02f9fc2"
      },
      "execution_count": 8,
      "outputs": [
        {
          "output_type": "stream",
          "name": "stdout",
          "text": [
            "782/782 [==============================] - 15s 20ms/step - loss: 0.6510 - accuracy: 0.7552\n",
            "782/782 [==============================] - 4s 5ms/step - loss: 0.7517 - accuracy: 0.8249\n",
            "782/782 [==============================] - 6s 8ms/step - loss: 0.6658 - accuracy: 0.8406\n",
            "782/782 [==============================] - 6s 8ms/step - loss: 0.9032 - accuracy: 0.8302\n",
            "RNN Accuracy: 0.7551599740982056\n",
            "LSTM Accuracy: 0.8248800039291382\n",
            "Bidirectional LSTM Accuracy: 0.8405600190162659\n",
            "Deep LSTM Accuracy: 0.8301600217819214\n"
          ]
        }
      ]
    },
    {
      "cell_type": "markdown",
      "source": [
        "Висновки\n",
        "\n",
        "Після оцінки точності моделей, можна зробити висновки щодо ефективності різних архітектур рекурентних нейронних мереж для класифікації рецензій із датасету IMDb. LSTM та двосторонні LSTM моделі демонструють кращі результати порівняно з простими RNN моделями завдяки своїй здатності краще запам'ятовувати довготривалі залежності в тексті. Глибокі LSTM моделі можуть показувати ще кращі результати, але їх навчання займає більше часу."
      ],
      "metadata": {
        "id": "DWx5-RMrskWs"
      }
    }
  ]
}