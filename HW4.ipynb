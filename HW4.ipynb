{
  "nbformat": 4,
  "nbformat_minor": 0,
  "metadata": {
    "colab": {
      "provenance": [],
      "toc_visible": true
    },
    "kernelspec": {
      "name": "python3",
      "display_name": "Python 3"
    },
    "language_info": {
      "name": "python"
    }
  },
  "cells": [
    {
      "cell_type": "code",
      "execution_count": 1,
      "metadata": {
        "id": "LlWm9O5Ios6T"
      },
      "outputs": [],
      "source": [
        "import numpy as np"
      ]
    },
    {
      "cell_type": "code",
      "source": [
        "array = [i for i in range(1,11)]\n",
        "print(array)"
      ],
      "metadata": {
        "colab": {
          "base_uri": "https://localhost:8080/"
        },
        "id": "2LuVD3fBo6-9",
        "outputId": "8757b3ef-0da1-4a50-c8a0-3edc69943133"
      },
      "execution_count": 5,
      "outputs": [
        {
          "output_type": "stream",
          "name": "stdout",
          "text": [
            "[1, 2, 3, 4, 5, 6, 7, 8, 9, 10]\n"
          ]
        }
      ]
    },
    {
      "cell_type": "code",
      "source": [
        "m = np.zeros((3, 3), dtype=int)\n",
        "print(m)"
      ],
      "metadata": {
        "colab": {
          "base_uri": "https://localhost:8080/"
        },
        "id": "0Nhl3Yk4pwha",
        "outputId": "99c22a56-1e9d-4c92-a6e9-86e37ba8b51d"
      },
      "execution_count": 6,
      "outputs": [
        {
          "output_type": "stream",
          "name": "stdout",
          "text": [
            "[[0 0 0]\n",
            " [0 0 0]\n",
            " [0 0 0]]\n"
          ]
        }
      ]
    },
    {
      "cell_type": "code",
      "source": [
        "array = np.random.randint(1, 11, size = (5, 5))\n",
        "print(array)"
      ],
      "metadata": {
        "colab": {
          "base_uri": "https://localhost:8080/"
        },
        "id": "qwz3GJhIrPZK",
        "outputId": "52064bb3-957d-4cc6-c3bd-93be544271e0"
      },
      "execution_count": 12,
      "outputs": [
        {
          "output_type": "stream",
          "name": "stdout",
          "text": [
            "[[ 2  7  3  4  8]\n",
            " [ 6  2  6 10  8]\n",
            " [ 5  1  7  8  6]\n",
            " [ 1  6  8  7  9]\n",
            " [ 6 10  8  2  9]]\n"
          ]
        }
      ]
    },
    {
      "cell_type": "code",
      "source": [
        "array = np.random.rand(4, 4)\n",
        "print(array)\n"
      ],
      "metadata": {
        "colab": {
          "base_uri": "https://localhost:8080/"
        },
        "id": "2atYt2btp7k9",
        "outputId": "684afa2b-1d4e-4b0f-8dec-22a9a3411a60"
      },
      "execution_count": 10,
      "outputs": [
        {
          "output_type": "stream",
          "name": "stdout",
          "text": [
            "[[0.57886481 0.21562108 0.44193659 0.7752043 ]\n",
            " [0.92281834 0.8376448  0.9165172  0.62339479]\n",
            " [0.9318826  0.93029556 0.66901053 0.84045175]\n",
            " [0.18412487 0.14458313 0.06365932 0.53667739]]\n"
          ]
        }
      ]
    },
    {
      "cell_type": "code",
      "source": [
        "array1 = np.random.randint(1, 11, size = (5,))\n",
        "array2 = np.random.randint(1, 11, size = (5,))\n",
        "print (array1)\n",
        "print (array2)\n",
        "print(f\"додавання {array1+array2}\")\n",
        "print(f\"віднімання {array1/array2}\")\n",
        "print(f\"множення {array1*array2}\")"
      ],
      "metadata": {
        "colab": {
          "base_uri": "https://localhost:8080/"
        },
        "id": "RLw5BZNprGvc",
        "outputId": "e36f6335-6d87-410b-8668-7036bc997f4a"
      },
      "execution_count": 15,
      "outputs": [
        {
          "output_type": "stream",
          "name": "stdout",
          "text": [
            "[ 4  7  5 10  3]\n",
            "[4 4 4 6 4]\n",
            "додавання [ 8 11  9 16  7]\n",
            "віднімання [1.         1.75       1.25       1.66666667 0.75      ]\n",
            "множення [16 28 20 60 12]\n"
          ]
        }
      ]
    },
    {
      "cell_type": "code",
      "source": [
        "# Створіть два вектори розміром 7, заповніть довільними\n",
        "# числами та знайдіть їх скалярний добуток.\n",
        "array1 = np.random.randint(1, 100, size = (7,))\n",
        "array2 = np.random.randint(1, 100, size = (7,))\n",
        "print (array1)\n",
        "print (array2)\n",
        "print(f\"скалярний добуток {np.dot(array1,array2)}\")"
      ],
      "metadata": {
        "colab": {
          "base_uri": "https://localhost:8080/"
        },
        "id": "WsiaErSdsKHc",
        "outputId": "07c18819-1318-4e6d-e2e0-aab51cd31686"
      },
      "execution_count": 17,
      "outputs": [
        {
          "output_type": "stream",
          "name": "stdout",
          "text": [
            "[79 55 17  3 62 55 81]\n",
            "[74 55 37 62  1 27 14]\n",
            "скалярний добуток 12367\n"
          ]
        }
      ]
    },
    {
      "cell_type": "code",
      "source": [
        "# Створіть дві матриці розміром 2x2 та 2x3, заповніть їх\n",
        "# випадковими цілими числами в діапазоні від 1 до 10 та перемножте їх між собою.\n",
        "array1 = np.random.randint(1, 11, size = (2,2))\n",
        "array2 = np.random.randint(1, 11, size = (2,3))\n",
        "print (array1)\n",
        "print (array2)\n",
        "print(f\"множення матриць {np.dot(array1,array2)}\")"
      ],
      "metadata": {
        "colab": {
          "base_uri": "https://localhost:8080/"
        },
        "id": "Fc3QeckGtb2e",
        "outputId": "9312729e-9ed2-4d9a-be8f-72876810b932"
      },
      "execution_count": 18,
      "outputs": [
        {
          "output_type": "stream",
          "name": "stdout",
          "text": [
            "[[4 5]\n",
            " [7 9]]\n",
            "[[7 7 2]\n",
            " [4 9 9]]\n",
            "множення матриць [[ 48  73  53]\n",
            " [ 85 130  95]]\n"
          ]
        }
      ]
    },
    {
      "cell_type": "code",
      "source": [
        "# Створіть матрицю розміром 3x3, заповніть її випадковими\n",
        "# цілими числами в діапазоні від 1 до 10 та знайдіть її обернену матрицю.\n",
        "array1 = np.random.randint(1, 11, size = (3,3))\n",
        "print (array1)\n",
        "print(f\"транспонована матриця {array1.T}\")"
      ],
      "metadata": {
        "colab": {
          "base_uri": "https://localhost:8080/"
        },
        "id": "SArZeqUmudw-",
        "outputId": "72131afb-f96f-4844-8eeb-dccfa7b0c757"
      },
      "execution_count": 19,
      "outputs": [
        {
          "output_type": "stream",
          "name": "stdout",
          "text": [
            "[[10 10  6]\n",
            " [10  3  3]\n",
            " [ 7  4  3]]\n",
            "транспонована матриця [[10 10  7]\n",
            " [10  3  4]\n",
            " [ 6  3  3]]\n"
          ]
        }
      ]
    },
    {
      "cell_type": "code",
      "source": [
        "# Створіть матрицю розміром 4x4, заповніть її випадковими\n",
        "# дійсними числами в діапазоні від 0 до 1 та транспонуйте її.\n",
        "array1 = np.random.rand(3,3)\n",
        "print (array1)\n",
        "print(f\"транспонована матриця {array1.T}\")"
      ],
      "metadata": {
        "colab": {
          "base_uri": "https://localhost:8080/"
        },
        "id": "HGD4axQ3u9UC",
        "outputId": "31cba0fd-852a-4325-d324-12f19b8394f6"
      },
      "execution_count": 20,
      "outputs": [
        {
          "output_type": "stream",
          "name": "stdout",
          "text": [
            "[[0.37484531 0.79070916 0.24206984]\n",
            " [0.47332899 0.24138902 0.42502695]\n",
            " [0.58143837 0.96440162 0.94548499]]\n",
            "транспонована матриця [[0.37484531 0.47332899 0.58143837]\n",
            " [0.79070916 0.24138902 0.96440162]\n",
            " [0.24206984 0.42502695 0.94548499]]\n"
          ]
        }
      ]
    },
    {
      "cell_type": "code",
      "source": [
        "# Створіть матрицю розміром 3x4 та вектор розміром 4, заповніть їх випадковими\n",
        "# цілими числами в діапазоні від 1 до 10 та перемножте матрицю на вектор.\n",
        "array1 = np.random.randint(1, 11, size = (3,4))\n",
        "array2 = np.random.randint(1, 11, size = (4,))\n",
        "print (array1)\n",
        "print (array2)\n",
        "print(f\"множення матриці на вектор {np.dot(array1,array2)}\")"
      ],
      "metadata": {
        "colab": {
          "base_uri": "https://localhost:8080/"
        },
        "id": "dcL9tx3kvKSI",
        "outputId": "940335c7-36f7-4612-f16e-a99332adaca0"
      },
      "execution_count": 22,
      "outputs": [
        {
          "output_type": "stream",
          "name": "stdout",
          "text": [
            "[[5 6 1 5]\n",
            " [7 4 4 8]\n",
            " [4 9 4 6]]\n",
            "[8 9 5 8]\n",
            "множення матриці на вектор [139 176 181]\n"
          ]
        }
      ]
    },
    {
      "cell_type": "code",
      "source": [
        "# Створіть матрицю розміром 2x3 та вектор розміром 3, заповніть їх випадковими\n",
        "# дійсними числами в діапазоні від 0 до 1 та перемножте матрицю на вектор.\n",
        "array1 = np.random.rand(2,3)\n",
        "array2 = np.random.rand(3,)\n",
        "print (array1)\n",
        "print (array2)\n",
        "print(f\"множення матриці на вектор {np.dot(array1,array2)}\")"
      ],
      "metadata": {
        "colab": {
          "base_uri": "https://localhost:8080/"
        },
        "id": "S6tgYGz4vfRT",
        "outputId": "f705a1f4-5725-4870-a8ac-0a953dc09dd2"
      },
      "execution_count": 23,
      "outputs": [
        {
          "output_type": "stream",
          "name": "stdout",
          "text": [
            "[[0.22922154 0.63886871 0.46691315]\n",
            " [0.74621408 0.17231642 0.96626301]]\n",
            "[0.52874676 0.26994304 0.08975205]\n",
            "множення матриці на вектор [0.33556472 0.52779798]\n"
          ]
        }
      ]
    },
    {
      "cell_type": "code",
      "source": [
        "# Створіть дві матриці розміром 2x2, заповніть їх випадковими\n",
        "# цілими числами в діапазоні від 1 до 10 та виконайте їхнє поелементне множення\n",
        "array1 = np.random.randint(1, 11, size = (2,2))\n",
        "array2 = np.random.randint(1, 11, size = (2,2))\n",
        "print (array1)\n",
        "print (array2)\n",
        "print(f\"множення матриць поелементно {array1*array2}\")"
      ],
      "metadata": {
        "colab": {
          "base_uri": "https://localhost:8080/"
        },
        "id": "gSfwFAqCvuOL",
        "outputId": "d995fea6-4cbb-4914-9b06-648d09d5cfdf"
      },
      "execution_count": 24,
      "outputs": [
        {
          "output_type": "stream",
          "name": "stdout",
          "text": [
            "[[1 9]\n",
            " [4 3]]\n",
            "[[3 8]\n",
            " [2 3]]\n",
            "множення матриць поелементно [[ 3 72]\n",
            " [ 8  9]]\n"
          ]
        }
      ]
    },
    {
      "cell_type": "code",
      "source": [
        "array1 = np.random.rand(2,2)\n",
        "array2 = np.random.rand(2,2)\n",
        "print (array1)\n",
        "print (array2)\n",
        "print(f\"добуток матриць {array1*array2}\")"
      ],
      "metadata": {
        "colab": {
          "base_uri": "https://localhost:8080/"
        },
        "id": "pP3WAV4LwLjr",
        "outputId": "3052f628-9c00-42bf-d816-4bcb302c7e1a"
      },
      "execution_count": 29,
      "outputs": [
        {
          "output_type": "stream",
          "name": "stdout",
          "text": [
            "[[0.50999543 0.93167438]\n",
            " [0.81490531 0.5684411 ]]\n",
            "[[0.2259572  0.19768952]\n",
            " [0.89962434 0.84279209]]\n",
            "добуток матриць [[0.11523714 0.18418226]\n",
            " [0.73310865 0.47907766]]\n"
          ]
        }
      ]
    },
    {
      "cell_type": "code",
      "source": [
        "# Створіть матрицю розміром 5x5, заповніть її випадковими цілими числами в\n",
        "# діапазоні від 1 до 100 та знайдіть суму елементів матриці.\n",
        "array = np.random.randint(1, 101, size = (5,5))\n",
        "print (array)\n",
        "print(f\"сума елементів матриці {array.sum()}\")"
      ],
      "metadata": {
        "colab": {
          "base_uri": "https://localhost:8080/"
        },
        "id": "cGjIi4bawXw6",
        "outputId": "03a25584-c3a9-4b2c-9a41-80cc427ec192"
      },
      "execution_count": 27,
      "outputs": [
        {
          "output_type": "stream",
          "name": "stdout",
          "text": [
            "[[ 62  40  13  13  78]\n",
            " [  6  68 100  98  33]\n",
            " [ 47  57  75  61  11]\n",
            " [  8  27  37  53  54]\n",
            " [ 94   7  89  46  84]]\n",
            "сума елементів матриці 1261\n"
          ]
        }
      ]
    },
    {
      "cell_type": "code",
      "source": [
        "array1 = np.random.randint(1, 11, size = (4,4))\n",
        "array2 = np.random.randint(1, 11, size = (4,4))\n",
        "print (array1)\n",
        "print (array2)\n",
        "print(f\"різниця матриць {array1-array2}\")"
      ],
      "metadata": {
        "colab": {
          "base_uri": "https://localhost:8080/"
        },
        "id": "e4Qgok7Zw6Y-",
        "outputId": "e4162605-bb22-4599-f6ad-16424ae1c681"
      },
      "execution_count": 28,
      "outputs": [
        {
          "output_type": "stream",
          "name": "stdout",
          "text": [
            "[[ 3  8  2 10]\n",
            " [ 4  4  6  7]\n",
            " [ 9 10 10  7]\n",
            " [ 3  2  2  9]]\n",
            "[[10 10 10  5]\n",
            " [ 4  1  1  6]\n",
            " [ 8  5 10  6]\n",
            " [ 7  4  9  3]]\n",
            "різниця матриць [[-7 -2 -8  5]\n",
            " [ 0  3  5  1]\n",
            " [ 1  5  0  1]\n",
            " [-4 -2 -7  6]]\n"
          ]
        }
      ]
    },
    {
      "cell_type": "code",
      "source": [
        "# Створіть матрицю розміром 3x3, заповніть її випадковими дійсними числами\n",
        "# в діапазоні від 0 до 1 та знайдіть вектор-стовпчик, що містить суму елементів кожного рядка матриці.\n",
        "array = np.random.rand(3,3)\n",
        "print (array)\n",
        "print(f\"вектор-стовпчик, що містить суму елементів кожного рядка матриці {np.sum(array, axis=1)}\")"
      ],
      "metadata": {
        "colab": {
          "base_uri": "https://localhost:8080/"
        },
        "id": "jcvVCdWWxMo5",
        "outputId": "994760ec-8ac6-4c18-8aae-f182a84cb337"
      },
      "execution_count": 31,
      "outputs": [
        {
          "output_type": "stream",
          "name": "stdout",
          "text": [
            "[[0.20817145 0.73934563 0.08180567]\n",
            " [0.67474522 0.60195069 0.7861763 ]\n",
            " [0.44711166 0.24750693 0.52394406]]\n",
            "вектор-стовпчик, що містить суму елементів кожного рядка матриці [1.02932275 2.06287221 1.21856265]\n"
          ]
        }
      ]
    },
    {
      "cell_type": "code",
      "source": [
        "array = np.random.rand(3,3)\n",
        "print (array)\n",
        "print(f\"матриця з квадратами цих чисел {np.square(array)}\")"
      ],
      "metadata": {
        "colab": {
          "base_uri": "https://localhost:8080/"
        },
        "id": "melZSav1x9K7",
        "outputId": "267ea925-f372-4af3-b714-e34e1cd7bd4b"
      },
      "execution_count": 34,
      "outputs": [
        {
          "output_type": "stream",
          "name": "stdout",
          "text": [
            "[[0.5575598  0.20642647 0.39536497]\n",
            " [0.18630087 0.49902947 0.52246082]\n",
            " [0.57327201 0.08648432 0.35106101]]\n",
            "матриця з квадратами цих чисел [[0.31087293 0.04261189 0.15631346]\n",
            " [0.03470802 0.24903042 0.27296531]\n",
            " [0.3286408  0.00747954 0.12324383]]\n"
          ]
        }
      ]
    },
    {
      "cell_type": "code",
      "source": [
        "array = np.random.randint(1, 51, size=4)\n",
        "print(array)\n",
        "print(f\"Вектор з квадратними коренями: {np.sqrt(array)}\")\n"
      ],
      "metadata": {
        "colab": {
          "base_uri": "https://localhost:8080/"
        },
        "id": "9ZJnMQAsyPDJ",
        "outputId": "b4d139e3-5a3e-4e33-bb69-52a0e7e04803"
      },
      "execution_count": 35,
      "outputs": [
        {
          "output_type": "stream",
          "name": "stdout",
          "text": [
            "[ 4  6  3 47]\n",
            "Вектор з квадратними коренями: [2.         2.44948974 1.73205081 6.8556546 ]\n"
          ]
        }
      ]
    }
  ]
}