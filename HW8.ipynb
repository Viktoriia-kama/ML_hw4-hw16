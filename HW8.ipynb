{
  "nbformat": 4,
  "nbformat_minor": 0,
  "metadata": {
    "colab": {
      "provenance": [],
      "authorship_tag": "ABX9TyOm2qHg1OgwroncAgqpVuVL",
      "include_colab_link": true
    },
    "kernelspec": {
      "name": "python3",
      "display_name": "Python 3"
    },
    "language_info": {
      "name": "python"
    }
  },
  "cells": [
    {
      "cell_type": "markdown",
      "metadata": {
        "id": "view-in-github",
        "colab_type": "text"
      },
      "source": [
        "<a href=\"https://colab.research.google.com/github/Viktoriia-kama/ML_hw4-hw16/blob/main/HW8.ipynb\" target=\"_parent\"><img src=\"https://colab.research.google.com/assets/colab-badge.svg\" alt=\"Open In Colab\"/></a>"
      ]
    },
    {
      "cell_type": "code",
      "source": [
        "import pandas as pd\n",
        "import numpy as np\n",
        "import os\n",
        "from sklearn.model_selection import train_test_split\n",
        "from sklearn.preprocessing import StandardScaler\n",
        "import matplotlib.pyplot as plt\n",
        "import seaborn as sns\n",
        "import category_encoders as ce\n",
        "from sklearn.metrics import accuracy_score, classification_report\n",
        "from sklearn.svm import SVC\n",
        "from sklearn.ensemble import RandomForestClassifier"
      ],
      "metadata": {
        "id": "2o2cIgH3Gzha"
      },
      "execution_count": 70,
      "outputs": []
    },
    {
      "cell_type": "code",
      "source": [
        "from google.colab import drive\n",
        "drive.mount('/content/drive')"
      ],
      "metadata": {
        "colab": {
          "base_uri": "https://localhost:8080/"
        },
        "id": "YGTH1J2CG62K",
        "outputId": "74e6095e-1b67-4421-e908-2547fa11a8db"
      },
      "execution_count": 3,
      "outputs": [
        {
          "output_type": "stream",
          "name": "stdout",
          "text": [
            "Mounted at /content/drive\n"
          ]
        }
      ]
    },
    {
      "cell_type": "code",
      "source": [
        "# Визначення шляху до папки з даними на Google Диску\n",
        "base_path = '/content/drive/My Drive/data'\n",
        "folders = ['idle', 'running', 'walking', 'stairs']\n",
        "\n",
        "# Створення порожнього списку для зберігання всіх DataFrame\n",
        "all_data = []\n",
        "\n",
        "# Ітерація по всіх папках і файлах\n",
        "for folder in folders:\n",
        "    folder_path = os.path.join(base_path, folder)\n",
        "    print(f\"Перевірка шляху: {folder_path}\")\n",
        "    if not os.path.exists(folder_path):\n",
        "        print(f\"Папка не знайдена: {folder_path}\")\n",
        "        continue  # Пропустити папку, яка не існує\n",
        "    for filename in os.listdir(folder_path):\n",
        "        if filename.endswith('.csv'):\n",
        "            file_path = os.path.join(folder_path, filename)\n",
        "            df = pd.read_csv(file_path)\n",
        "            df['activity'] = folder  # Додайте стовпець для ідентифікації активності\n",
        "            all_data.append(df)\n",
        "\n",
        "# Об'єднання всіх DataFrame в один\n",
        "if all_data:\n",
        "    combined_df = pd.concat(all_data, ignore_index=True)\n",
        "\n",
        "    # Перегляд результатів\n",
        "    print(combined_df.head())\n",
        "\n",
        "    # Збереження об'єднаного DataFrame у новий CSV-файл\n",
        "    combined_df.to_csv('/content/drive/My Drive/combined_data.csv', index=False)\n",
        "else:\n",
        "    print(\"Не знайдено жодного CSV-файлу для об'єднання.\")"
      ],
      "metadata": {
        "colab": {
          "base_uri": "https://localhost:8080/"
        },
        "collapsed": true,
        "id": "PJkGVqyS_2Tz",
        "outputId": "1d10e5da-b0fc-4f53-85b7-fd6a1074d4ab"
      },
      "execution_count": 13,
      "outputs": [
        {
          "output_type": "stream",
          "name": "stdout",
          "text": [
            "Перевірка шляху: /content/drive/My Drive/data/idle\n",
            "Перевірка шляху: /content/drive/My Drive/data/running\n",
            "Перевірка шляху: /content/drive/My Drive/data/walking\n",
            "Перевірка шляху: /content/drive/My Drive/data/stairs\n",
            "   accelerometer_X  accelerometer_Y  accelerometer_Z activity\n",
            "0        -0.172383         4.922479         8.398860     idle\n",
            "1        -0.158017         5.008670         8.250419     idle\n",
            "2        -0.090980         4.989517         8.054095     idle\n",
            "3        -0.229843         4.922479         8.523358     idle\n",
            "4         0.014365         5.008670         8.283938     idle\n"
          ]
        }
      ]
    },
    {
      "cell_type": "code",
      "source": [
        "df = combined_df\n",
        "df.info()"
      ],
      "metadata": {
        "colab": {
          "base_uri": "https://localhost:8080/"
        },
        "id": "dZb_k58hYADX",
        "outputId": "0c2d84be-e7d0-4363-dc5e-24c37a57473d"
      },
      "execution_count": 32,
      "outputs": [
        {
          "output_type": "stream",
          "name": "stdout",
          "text": [
            "<class 'pandas.core.frame.DataFrame'>\n",
            "RangeIndex: 173850 entries, 0 to 173849\n",
            "Data columns (total 4 columns):\n",
            " #   Column           Non-Null Count   Dtype  \n",
            "---  ------           --------------   -----  \n",
            " 0   accelerometer_X  173850 non-null  float64\n",
            " 1   accelerometer_Y  173850 non-null  float64\n",
            " 2   accelerometer_Z  173850 non-null  float64\n",
            " 3   activity         173850 non-null  object \n",
            "dtypes: float64(3), object(1)\n",
            "memory usage: 5.3+ MB\n"
          ]
        }
      ]
    },
    {
      "cell_type": "code",
      "source": [
        "df.describe(include = 'all').T"
      ],
      "metadata": {
        "colab": {
          "base_uri": "https://localhost:8080/",
          "height": 175
        },
        "id": "n0xgJcI1lMOs",
        "outputId": "fced1b22-5d5f-4935-dd5f-9f5046828186"
      },
      "execution_count": 74,
      "outputs": [
        {
          "output_type": "execute_result",
          "data": {
            "text/plain": [
              "                    count unique      top    freq      mean       std  \\\n",
              "accelerometer_X  173850.0    NaN      NaN     NaN  2.163539  8.903203   \n",
              "accelerometer_Y  173850.0    NaN      NaN     NaN  1.584005  13.19985   \n",
              "accelerometer_Z  173850.0    NaN      NaN     NaN  0.915189  7.118025   \n",
              "activity           173850      4  running  103140       NaN       NaN   \n",
              "\n",
              "                       min       25%       50%       75%        max  \n",
              "accelerometer_X -39.188293  -2.94008  0.248997  5.525818  39.188293  \n",
              "accelerometer_Y -39.188293 -9.150639 -0.023942  9.983821  39.188293  \n",
              "accelerometer_Z -39.188293 -2.868254  0.057461  4.333505  39.188293  \n",
              "activity               NaN       NaN       NaN       NaN        NaN  "
            ],
            "text/html": [
              "\n",
              "  <div id=\"df-35b76aeb-03e4-4277-b105-de626b0432cf\" class=\"colab-df-container\">\n",
              "    <div>\n",
              "<style scoped>\n",
              "    .dataframe tbody tr th:only-of-type {\n",
              "        vertical-align: middle;\n",
              "    }\n",
              "\n",
              "    .dataframe tbody tr th {\n",
              "        vertical-align: top;\n",
              "    }\n",
              "\n",
              "    .dataframe thead th {\n",
              "        text-align: right;\n",
              "    }\n",
              "</style>\n",
              "<table border=\"1\" class=\"dataframe\">\n",
              "  <thead>\n",
              "    <tr style=\"text-align: right;\">\n",
              "      <th></th>\n",
              "      <th>count</th>\n",
              "      <th>unique</th>\n",
              "      <th>top</th>\n",
              "      <th>freq</th>\n",
              "      <th>mean</th>\n",
              "      <th>std</th>\n",
              "      <th>min</th>\n",
              "      <th>25%</th>\n",
              "      <th>50%</th>\n",
              "      <th>75%</th>\n",
              "      <th>max</th>\n",
              "    </tr>\n",
              "  </thead>\n",
              "  <tbody>\n",
              "    <tr>\n",
              "      <th>accelerometer_X</th>\n",
              "      <td>173850.0</td>\n",
              "      <td>NaN</td>\n",
              "      <td>NaN</td>\n",
              "      <td>NaN</td>\n",
              "      <td>2.163539</td>\n",
              "      <td>8.903203</td>\n",
              "      <td>-39.188293</td>\n",
              "      <td>-2.94008</td>\n",
              "      <td>0.248997</td>\n",
              "      <td>5.525818</td>\n",
              "      <td>39.188293</td>\n",
              "    </tr>\n",
              "    <tr>\n",
              "      <th>accelerometer_Y</th>\n",
              "      <td>173850.0</td>\n",
              "      <td>NaN</td>\n",
              "      <td>NaN</td>\n",
              "      <td>NaN</td>\n",
              "      <td>1.584005</td>\n",
              "      <td>13.19985</td>\n",
              "      <td>-39.188293</td>\n",
              "      <td>-9.150639</td>\n",
              "      <td>-0.023942</td>\n",
              "      <td>9.983821</td>\n",
              "      <td>39.188293</td>\n",
              "    </tr>\n",
              "    <tr>\n",
              "      <th>accelerometer_Z</th>\n",
              "      <td>173850.0</td>\n",
              "      <td>NaN</td>\n",
              "      <td>NaN</td>\n",
              "      <td>NaN</td>\n",
              "      <td>0.915189</td>\n",
              "      <td>7.118025</td>\n",
              "      <td>-39.188293</td>\n",
              "      <td>-2.868254</td>\n",
              "      <td>0.057461</td>\n",
              "      <td>4.333505</td>\n",
              "      <td>39.188293</td>\n",
              "    </tr>\n",
              "    <tr>\n",
              "      <th>activity</th>\n",
              "      <td>173850</td>\n",
              "      <td>4</td>\n",
              "      <td>running</td>\n",
              "      <td>103140</td>\n",
              "      <td>NaN</td>\n",
              "      <td>NaN</td>\n",
              "      <td>NaN</td>\n",
              "      <td>NaN</td>\n",
              "      <td>NaN</td>\n",
              "      <td>NaN</td>\n",
              "      <td>NaN</td>\n",
              "    </tr>\n",
              "  </tbody>\n",
              "</table>\n",
              "</div>\n",
              "    <div class=\"colab-df-buttons\">\n",
              "\n",
              "  <div class=\"colab-df-container\">\n",
              "    <button class=\"colab-df-convert\" onclick=\"convertToInteractive('df-35b76aeb-03e4-4277-b105-de626b0432cf')\"\n",
              "            title=\"Convert this dataframe to an interactive table.\"\n",
              "            style=\"display:none;\">\n",
              "\n",
              "  <svg xmlns=\"http://www.w3.org/2000/svg\" height=\"24px\" viewBox=\"0 -960 960 960\">\n",
              "    <path d=\"M120-120v-720h720v720H120Zm60-500h600v-160H180v160Zm220 220h160v-160H400v160Zm0 220h160v-160H400v160ZM180-400h160v-160H180v160Zm440 0h160v-160H620v160ZM180-180h160v-160H180v160Zm440 0h160v-160H620v160Z\"/>\n",
              "  </svg>\n",
              "    </button>\n",
              "\n",
              "  <style>\n",
              "    .colab-df-container {\n",
              "      display:flex;\n",
              "      gap: 12px;\n",
              "    }\n",
              "\n",
              "    .colab-df-convert {\n",
              "      background-color: #E8F0FE;\n",
              "      border: none;\n",
              "      border-radius: 50%;\n",
              "      cursor: pointer;\n",
              "      display: none;\n",
              "      fill: #1967D2;\n",
              "      height: 32px;\n",
              "      padding: 0 0 0 0;\n",
              "      width: 32px;\n",
              "    }\n",
              "\n",
              "    .colab-df-convert:hover {\n",
              "      background-color: #E2EBFA;\n",
              "      box-shadow: 0px 1px 2px rgba(60, 64, 67, 0.3), 0px 1px 3px 1px rgba(60, 64, 67, 0.15);\n",
              "      fill: #174EA6;\n",
              "    }\n",
              "\n",
              "    .colab-df-buttons div {\n",
              "      margin-bottom: 4px;\n",
              "    }\n",
              "\n",
              "    [theme=dark] .colab-df-convert {\n",
              "      background-color: #3B4455;\n",
              "      fill: #D2E3FC;\n",
              "    }\n",
              "\n",
              "    [theme=dark] .colab-df-convert:hover {\n",
              "      background-color: #434B5C;\n",
              "      box-shadow: 0px 1px 3px 1px rgba(0, 0, 0, 0.15);\n",
              "      filter: drop-shadow(0px 1px 2px rgba(0, 0, 0, 0.3));\n",
              "      fill: #FFFFFF;\n",
              "    }\n",
              "  </style>\n",
              "\n",
              "    <script>\n",
              "      const buttonEl =\n",
              "        document.querySelector('#df-35b76aeb-03e4-4277-b105-de626b0432cf button.colab-df-convert');\n",
              "      buttonEl.style.display =\n",
              "        google.colab.kernel.accessAllowed ? 'block' : 'none';\n",
              "\n",
              "      async function convertToInteractive(key) {\n",
              "        const element = document.querySelector('#df-35b76aeb-03e4-4277-b105-de626b0432cf');\n",
              "        const dataTable =\n",
              "          await google.colab.kernel.invokeFunction('convertToInteractive',\n",
              "                                                    [key], {});\n",
              "        if (!dataTable) return;\n",
              "\n",
              "        const docLinkHtml = 'Like what you see? Visit the ' +\n",
              "          '<a target=\"_blank\" href=https://colab.research.google.com/notebooks/data_table.ipynb>data table notebook</a>'\n",
              "          + ' to learn more about interactive tables.';\n",
              "        element.innerHTML = '';\n",
              "        dataTable['output_type'] = 'display_data';\n",
              "        await google.colab.output.renderOutput(dataTable, element);\n",
              "        const docLink = document.createElement('div');\n",
              "        docLink.innerHTML = docLinkHtml;\n",
              "        element.appendChild(docLink);\n",
              "      }\n",
              "    </script>\n",
              "  </div>\n",
              "\n",
              "\n",
              "<div id=\"df-1293868d-533c-483e-8ca2-54ed45ad606d\">\n",
              "  <button class=\"colab-df-quickchart\" onclick=\"quickchart('df-1293868d-533c-483e-8ca2-54ed45ad606d')\"\n",
              "            title=\"Suggest charts\"\n",
              "            style=\"display:none;\">\n",
              "\n",
              "<svg xmlns=\"http://www.w3.org/2000/svg\" height=\"24px\"viewBox=\"0 0 24 24\"\n",
              "     width=\"24px\">\n",
              "    <g>\n",
              "        <path d=\"M19 3H5c-1.1 0-2 .9-2 2v14c0 1.1.9 2 2 2h14c1.1 0 2-.9 2-2V5c0-1.1-.9-2-2-2zM9 17H7v-7h2v7zm4 0h-2V7h2v10zm4 0h-2v-4h2v4z\"/>\n",
              "    </g>\n",
              "</svg>\n",
              "  </button>\n",
              "\n",
              "<style>\n",
              "  .colab-df-quickchart {\n",
              "      --bg-color: #E8F0FE;\n",
              "      --fill-color: #1967D2;\n",
              "      --hover-bg-color: #E2EBFA;\n",
              "      --hover-fill-color: #174EA6;\n",
              "      --disabled-fill-color: #AAA;\n",
              "      --disabled-bg-color: #DDD;\n",
              "  }\n",
              "\n",
              "  [theme=dark] .colab-df-quickchart {\n",
              "      --bg-color: #3B4455;\n",
              "      --fill-color: #D2E3FC;\n",
              "      --hover-bg-color: #434B5C;\n",
              "      --hover-fill-color: #FFFFFF;\n",
              "      --disabled-bg-color: #3B4455;\n",
              "      --disabled-fill-color: #666;\n",
              "  }\n",
              "\n",
              "  .colab-df-quickchart {\n",
              "    background-color: var(--bg-color);\n",
              "    border: none;\n",
              "    border-radius: 50%;\n",
              "    cursor: pointer;\n",
              "    display: none;\n",
              "    fill: var(--fill-color);\n",
              "    height: 32px;\n",
              "    padding: 0;\n",
              "    width: 32px;\n",
              "  }\n",
              "\n",
              "  .colab-df-quickchart:hover {\n",
              "    background-color: var(--hover-bg-color);\n",
              "    box-shadow: 0 1px 2px rgba(60, 64, 67, 0.3), 0 1px 3px 1px rgba(60, 64, 67, 0.15);\n",
              "    fill: var(--button-hover-fill-color);\n",
              "  }\n",
              "\n",
              "  .colab-df-quickchart-complete:disabled,\n",
              "  .colab-df-quickchart-complete:disabled:hover {\n",
              "    background-color: var(--disabled-bg-color);\n",
              "    fill: var(--disabled-fill-color);\n",
              "    box-shadow: none;\n",
              "  }\n",
              "\n",
              "  .colab-df-spinner {\n",
              "    border: 2px solid var(--fill-color);\n",
              "    border-color: transparent;\n",
              "    border-bottom-color: var(--fill-color);\n",
              "    animation:\n",
              "      spin 1s steps(1) infinite;\n",
              "  }\n",
              "\n",
              "  @keyframes spin {\n",
              "    0% {\n",
              "      border-color: transparent;\n",
              "      border-bottom-color: var(--fill-color);\n",
              "      border-left-color: var(--fill-color);\n",
              "    }\n",
              "    20% {\n",
              "      border-color: transparent;\n",
              "      border-left-color: var(--fill-color);\n",
              "      border-top-color: var(--fill-color);\n",
              "    }\n",
              "    30% {\n",
              "      border-color: transparent;\n",
              "      border-left-color: var(--fill-color);\n",
              "      border-top-color: var(--fill-color);\n",
              "      border-right-color: var(--fill-color);\n",
              "    }\n",
              "    40% {\n",
              "      border-color: transparent;\n",
              "      border-right-color: var(--fill-color);\n",
              "      border-top-color: var(--fill-color);\n",
              "    }\n",
              "    60% {\n",
              "      border-color: transparent;\n",
              "      border-right-color: var(--fill-color);\n",
              "    }\n",
              "    80% {\n",
              "      border-color: transparent;\n",
              "      border-right-color: var(--fill-color);\n",
              "      border-bottom-color: var(--fill-color);\n",
              "    }\n",
              "    90% {\n",
              "      border-color: transparent;\n",
              "      border-bottom-color: var(--fill-color);\n",
              "    }\n",
              "  }\n",
              "</style>\n",
              "\n",
              "  <script>\n",
              "    async function quickchart(key) {\n",
              "      const quickchartButtonEl =\n",
              "        document.querySelector('#' + key + ' button');\n",
              "      quickchartButtonEl.disabled = true;  // To prevent multiple clicks.\n",
              "      quickchartButtonEl.classList.add('colab-df-spinner');\n",
              "      try {\n",
              "        const charts = await google.colab.kernel.invokeFunction(\n",
              "            'suggestCharts', [key], {});\n",
              "      } catch (error) {\n",
              "        console.error('Error during call to suggestCharts:', error);\n",
              "      }\n",
              "      quickchartButtonEl.classList.remove('colab-df-spinner');\n",
              "      quickchartButtonEl.classList.add('colab-df-quickchart-complete');\n",
              "    }\n",
              "    (() => {\n",
              "      let quickchartButtonEl =\n",
              "        document.querySelector('#df-1293868d-533c-483e-8ca2-54ed45ad606d button');\n",
              "      quickchartButtonEl.style.display =\n",
              "        google.colab.kernel.accessAllowed ? 'block' : 'none';\n",
              "    })();\n",
              "  </script>\n",
              "</div>\n",
              "    </div>\n",
              "  </div>\n"
            ],
            "application/vnd.google.colaboratory.intrinsic+json": {
              "type": "dataframe",
              "summary": "{\n  \"name\": \"df\",\n  \"rows\": 4,\n  \"fields\": [\n    {\n      \"column\": \"count\",\n      \"properties\": {\n        \"dtype\": \"date\",\n        \"min\": 173850.0,\n        \"max\": 173850.0,\n        \"num_unique_values\": 1,\n        \"samples\": [\n          173850.0\n        ],\n        \"semantic_type\": \"\",\n        \"description\": \"\"\n      }\n    },\n    {\n      \"column\": \"unique\",\n      \"properties\": {\n        \"dtype\": \"date\",\n        \"min\": 4,\n        \"max\": 4,\n        \"num_unique_values\": 1,\n        \"samples\": [\n          4\n        ],\n        \"semantic_type\": \"\",\n        \"description\": \"\"\n      }\n    },\n    {\n      \"column\": \"top\",\n      \"properties\": {\n        \"dtype\": \"category\",\n        \"num_unique_values\": 1,\n        \"samples\": [\n          \"running\"\n        ],\n        \"semantic_type\": \"\",\n        \"description\": \"\"\n      }\n    },\n    {\n      \"column\": \"freq\",\n      \"properties\": {\n        \"dtype\": \"date\",\n        \"min\": \"103140\",\n        \"max\": \"103140\",\n        \"num_unique_values\": 1,\n        \"samples\": [\n          \"103140\"\n        ],\n        \"semantic_type\": \"\",\n        \"description\": \"\"\n      }\n    },\n    {\n      \"column\": \"mean\",\n      \"properties\": {\n        \"dtype\": \"date\",\n        \"min\": 0.9151894850503307,\n        \"max\": 2.163538941409261,\n        \"num_unique_values\": 3,\n        \"samples\": [\n          2.163538941409261\n        ],\n        \"semantic_type\": \"\",\n        \"description\": \"\"\n      }\n    },\n    {\n      \"column\": \"std\",\n      \"properties\": {\n        \"dtype\": \"date\",\n        \"min\": 7.1180246221225865,\n        \"max\": 13.199849847037507,\n        \"num_unique_values\": 3,\n        \"samples\": [\n          8.90320299612686\n        ],\n        \"semantic_type\": \"\",\n        \"description\": \"\"\n      }\n    },\n    {\n      \"column\": \"min\",\n      \"properties\": {\n        \"dtype\": \"date\",\n        \"min\": -39.188293,\n        \"max\": -39.188293,\n        \"num_unique_values\": 1,\n        \"samples\": [\n          -39.188293\n        ],\n        \"semantic_type\": \"\",\n        \"description\": \"\"\n      }\n    },\n    {\n      \"column\": \"25%\",\n      \"properties\": {\n        \"dtype\": \"date\",\n        \"min\": -9.150639,\n        \"max\": -2.8682540000000003,\n        \"num_unique_values\": 3,\n        \"samples\": [\n          -2.94008\n        ],\n        \"semantic_type\": \"\",\n        \"description\": \"\"\n      }\n    },\n    {\n      \"column\": \"50%\",\n      \"properties\": {\n        \"dtype\": \"date\",\n        \"min\": -0.0239419999999999,\n        \"max\": 0.2489969999999999,\n        \"num_unique_values\": 3,\n        \"samples\": [\n          0.2489969999999999\n        ],\n        \"semantic_type\": \"\",\n        \"description\": \"\"\n      }\n    },\n    {\n      \"column\": \"75%\",\n      \"properties\": {\n        \"dtype\": \"date\",\n        \"min\": 4.333505000000001,\n        \"max\": 9.983821,\n        \"num_unique_values\": 3,\n        \"samples\": [\n          5.525818\n        ],\n        \"semantic_type\": \"\",\n        \"description\": \"\"\n      }\n    },\n    {\n      \"column\": \"max\",\n      \"properties\": {\n        \"dtype\": \"date\",\n        \"min\": 39.188293,\n        \"max\": 39.188293,\n        \"num_unique_values\": 1,\n        \"samples\": [\n          39.188293\n        ],\n        \"semantic_type\": \"\",\n        \"description\": \"\"\n      }\n    }\n  ]\n}"
            }
          },
          "metadata": {},
          "execution_count": 74
        }
      ]
    },
    {
      "cell_type": "code",
      "source": [
        "X = df.drop([\"activity\"], axis =1)\n",
        "y = df['activity']\n"
      ],
      "metadata": {
        "id": "0YqdUqxiX-Kr"
      },
      "execution_count": 20,
      "outputs": []
    },
    {
      "cell_type": "code",
      "source": [
        "X_train, X_test, y_train, y_test = train_test_split(\n",
        "    X, y, test_size=0.33, random_state=42)"
      ],
      "metadata": {
        "id": "uv-oua96Y3Wl"
      },
      "execution_count": 63,
      "outputs": []
    },
    {
      "cell_type": "code",
      "source": [
        "scaler = StandardScaler()\n",
        "\n",
        "X_train = scaler.fit_transform(X_train)\n",
        "X_test = scaler.transform(X_test)"
      ],
      "metadata": {
        "id": "DRrCQXo0ZSQz"
      },
      "execution_count": 64,
      "outputs": []
    },
    {
      "cell_type": "code",
      "source": [
        "# encoders = ce.OrdinalEncoder(cols=['activity'])\n",
        "\n",
        "# y_train = encoders.fit_transform(y_train)\n",
        "# y_test = encoders.fit_transform(y_test)\n",
        "# y_train = np.ravel(y_train)\n",
        "y_train"
      ],
      "metadata": {
        "colab": {
          "base_uri": "https://localhost:8080/"
        },
        "id": "koxMzndGdLp3",
        "outputId": "f0d88261-e7d3-4ba1-b8ab-c460b369d481"
      },
      "execution_count": 65,
      "outputs": [
        {
          "output_type": "execute_result",
          "data": {
            "text/plain": [
              "45560     running\n",
              "81992     running\n",
              "102101    running\n",
              "90757     running\n",
              "78330     running\n",
              "           ...   \n",
              "119879    walking\n",
              "103694    running\n",
              "131932    walking\n",
              "146867    walking\n",
              "121958    walking\n",
              "Name: activity, Length: 116479, dtype: object"
            ]
          },
          "metadata": {},
          "execution_count": 65
        }
      ]
    },
    {
      "cell_type": "code",
      "source": [
        "rfc = RandomForestClassifier()\n",
        "\n",
        "rfc.fit(X_train, y_train)\n",
        "\n",
        "y_pred = rfc.predict(X_test)"
      ],
      "metadata": {
        "id": "vB69XMWxgMd-"
      },
      "execution_count": 66,
      "outputs": []
    },
    {
      "cell_type": "code",
      "source": [
        "print(accuracy_score(y_test, y_pred))\n",
        "print(classification_report(y_test, y_pred))"
      ],
      "metadata": {
        "colab": {
          "base_uri": "https://localhost:8080/"
        },
        "id": "TuZrIRq-c6Wp",
        "outputId": "8b4106e1-4454-47f5-ad18-1ab7b10b6c26"
      },
      "execution_count": 72,
      "outputs": [
        {
          "output_type": "stream",
          "name": "stdout",
          "text": [
            "0.9994945181363407\n",
            "              precision    recall  f1-score   support\n",
            "\n",
            "        idle       1.00      1.00      1.00      3240\n",
            "     running       1.00      1.00      1.00     33927\n",
            "      stairs       1.00      0.99      1.00      1621\n",
            "     walking       1.00      1.00      1.00     18583\n",
            "\n",
            "    accuracy                           1.00     57371\n",
            "   macro avg       1.00      1.00      1.00     57371\n",
            "weighted avg       1.00      1.00      1.00     57371\n",
            "\n"
          ]
        }
      ]
    },
    {
      "cell_type": "code",
      "source": [
        "svc = SVC()\n",
        "\n",
        "rfc.fit(X_train, y_train)\n",
        "\n",
        "y_pred1 = rfc.predict(X_test)"
      ],
      "metadata": {
        "id": "RXUMWmZuj8Vv"
      },
      "execution_count": 71,
      "outputs": []
    },
    {
      "cell_type": "code",
      "source": [
        "print(accuracy_score(y_test, y_pred1))\n",
        "print(classification_report(y_test, y_pred1))"
      ],
      "metadata": {
        "colab": {
          "base_uri": "https://localhost:8080/"
        },
        "id": "9gP-KaoKkG7M",
        "outputId": "e4c3bf6e-a034-4e56-bceb-2fb702a32207"
      },
      "execution_count": 73,
      "outputs": [
        {
          "output_type": "stream",
          "name": "stdout",
          "text": [
            "0.9994945181363407\n",
            "              precision    recall  f1-score   support\n",
            "\n",
            "        idle       1.00      1.00      1.00      3240\n",
            "     running       1.00      1.00      1.00     33927\n",
            "      stairs       1.00      0.99      1.00      1621\n",
            "     walking       1.00      1.00      1.00     18583\n",
            "\n",
            "    accuracy                           1.00     57371\n",
            "   macro avg       1.00      1.00      1.00     57371\n",
            "weighted avg       1.00      1.00      1.00     57371\n",
            "\n"
          ]
        }
      ]
    },
    {
      "cell_type": "markdown",
      "source": [
        "Висновок: вище представлено дві моделі - алгоритми SVM та випадковий ліс. Обидва classification report показують нам високі метрики: повнота та точність дорівнюють 1, що в результаті дає метрику гармонійне серднє f1 рівним 1.\n",
        "Отже, обидва методи працюють чудово, адже дають високі результати"
      ],
      "metadata": {
        "id": "BgiQkZqhkTB6"
      }
    }
  ]
}